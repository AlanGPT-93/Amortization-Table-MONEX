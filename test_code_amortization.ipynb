{
  "nbformat": 4,
  "nbformat_minor": 0,
  "metadata": {
    "colab": {
      "name": "test_code_amortization.ipynb",
      "provenance": [],
      "collapsed_sections": [],
      "include_colab_link": true
    },
    "kernelspec": {
      "name": "python3",
      "display_name": "Python 3"
    },
    "language_info": {
      "name": "python"
    }
  },
  "cells": [
    {
      "cell_type": "markdown",
      "metadata": {
        "id": "view-in-github",
        "colab_type": "text"
      },
      "source": [
        "<a href=\"https://colab.research.google.com/github/AlanGPT-93/Amortization-Table-MONEX/blob/main/test_code_amortization.ipynb\" target=\"_parent\"><img src=\"https://colab.research.google.com/assets/colab-badge.svg\" alt=\"Open In Colab\"/></a>"
      ]
    },
    {
      "cell_type": "code",
      "metadata": {
        "id": "ymPvRTgsd05A",
        "colab": {
          "base_uri": "https://localhost:8080/"
        },
        "outputId": "a900c420-9a5d-4f5e-d3c8-608cb21bcf86"
      },
      "source": [
        "# from google.colab import drive\n",
        "# drive.mount('/content/drive')\n",
        "# !python --version\n",
        "! pip install version numpy_financial"
      ],
      "execution_count": null,
      "outputs": [
        {
          "output_type": "stream",
          "name": "stdout",
          "text": [
            "Requirement already satisfied: version in /usr/local/lib/python3.7/dist-packages (0.1.0)\n",
            "Requirement already satisfied: numpy_financial in /usr/local/lib/python3.7/dist-packages (1.0.0)\n",
            "Requirement already satisfied: numpy>=1.15 in /usr/local/lib/python3.7/dist-packages (from numpy_financial) (1.19.5)\n"
          ]
        }
      ]
    },
    {
      "cell_type": "markdown",
      "metadata": {
        "id": "sb0iKNNpyLMO"
      },
      "source": [
        "# Inicio y Configuración"
      ]
    },
    {
      "cell_type": "markdown",
      "metadata": {
        "id": "gAiS3zGkyYDa"
      },
      "source": [
        "## Librerías"
      ]
    },
    {
      "cell_type": "code",
      "metadata": {
        "id": "3LPq2alXd2yn"
      },
      "source": [
        "## Carga de librerías\n",
        "import pandas as pd\n",
        "import functools\n",
        "import numpy_financial as npf\n",
        "import numpy as np\n",
        "from dateutil.relativedelta import relativedelta\n",
        "import datetime\n",
        "import re"
      ],
      "execution_count": null,
      "outputs": []
    },
    {
      "cell_type": "markdown",
      "metadata": {
        "id": "q14ElCIOyc6S"
      },
      "source": [
        "## Carga de Datos y Estandarización de Nombres"
      ]
    },
    {
      "cell_type": "code",
      "metadata": {
        "id": "jCVY0CBcd21B"
      },
      "source": [
        "# credits_table = pd.read_csv(\"Credits_data.csv\", encoding= \"latin\")\n",
        "credits_table = pd.read_excel(\"Credits_data.xlsx\") ## BBDD de Ingresos"
      ],
      "execution_count": null,
      "outputs": []
    },
    {
      "cell_type": "code",
      "metadata": {
        "id": "WMZx5a6Uxl8d"
      },
      "source": [
        "gastos_table = pd.read_excel(\"Gastos_data.xlsx\") ## BBDD de Gastos"
      ],
      "execution_count": null,
      "outputs": []
    },
    {
      "cell_type": "code",
      "metadata": {
        "id": "sKbzGk0VZXkQ"
      },
      "source": [
        "#tasas_historicas = pd.read_csv(\"Tasas_Hist.csv\")\n",
        "tasas_historicas = pd.read_excel(\"Tasas_Hist.xlsx\") ## BBDD Tasas Históricas"
      ],
      "execution_count": null,
      "outputs": []
    },
    {
      "cell_type": "code",
      "metadata": {
        "id": "7ExWi9DeG9BT"
      },
      "source": [
        "# CONSTANTES\n",
        "BASE_DIAS_INTERES_ANUAL = 360.\n",
        "DIAS_PROM_MES = 365 / 12.\n",
        "\n",
        "# Diccionario para cambiar el nombre a las columnas de BBDD_INGRESOS\n",
        "new_cols = {'Llave': 'ID',\n",
        "'Producto': 'PRODUCTO',\n",
        "'ID Crédito Asignado Inst': 'ID_CREDITO_ASIG',\n",
        "'Sindicatos': 'SINDICATOS',\n",
        "'No Cliente': 'NO_CLIENTE',\n",
        "'Cliente': 'CLIENTE',\n",
        "'Divisa Línea': 'DIVISA',\n",
        "'Revolvente / No Rev Multiple / No Rev una sola': 'TIPO_CREDITO',\n",
        "'Capital (traducción)': 'PAGO_CAPITAL',\n",
        "'Interés (traducción)': 'PAGO_INTERESES',\n",
        "'Tasa Ref 2': 'TASA_REFERENCIA',\n",
        "'Máx. de Tasa Fija Valor': 'TASA_FIJA',\n",
        "'Máx. de Monto Original línea': 'MONTO',\n",
        "'Máx. de Plazo en Meses': 'PLAZO',\n",
        "'Máx. de Período de Gracia Capital': 'PERIODO_GRACIA_CAP',\n",
        "'Máx. de Período de Gracia Interés': 'PERIODO_GRACIA_INT',\n",
        "'Máx. de Margen': 'TASA_MARGEN',\n",
        "'Máx. de Fecha aprobación Comité': 'FECHA',\n",
        "'Divisa la1': 'DIVISA_APERTURA',\n",
        "'Monto la1': 'MONTO_APERTURA',\n",
        "'%comisión por apertura': 'PCT_APERTURA',\n",
        "'Divisa ld': 'DIVISA_DESEMBOLSO',\n",
        "'Monto ld': 'MONTO_DESEMBOLSO',\n",
        "'%comisión por desembolso': 'PCT_DESEMBOLSO',\n",
        "'Divisa otras comisiones': 'DIVISA_OTRAS_COM',\n",
        "'Monto otras comisiones': 'MONTO_OTRAS_COM',\n",
        "'%otras comisiones': 'PCT_OTRAS_COM'}\n",
        "\n",
        "new_cols_gastos = {'Descripción OC': 'AUX_ID',\n",
        "'Fecha de creación': 'AUX_FECHA',\n",
        "'Monto neto': 'MONTO_COSTO'\n",
        "}"
      ],
      "execution_count": null,
      "outputs": []
    },
    {
      "cell_type": "code",
      "metadata": {
        "id": "WGMTEi0ad26M"
      },
      "source": [
        "credits_table.rename(columns = new_cols, inplace = True ) # Se cambia el nombre de las columnas de acuerdo al diccionario new_cols."
      ],
      "execution_count": null,
      "outputs": []
    },
    {
      "cell_type": "code",
      "metadata": {
        "id": "qsd_dbb8xl8p"
      },
      "source": [
        "gastos_table.rename(columns = new_cols_gastos, inplace = True ) # Se cambia el nombre de las columnas de acuerdo al diccionario new_cols_gastos."
      ],
      "execution_count": null,
      "outputs": []
    },
    {
      "cell_type": "markdown",
      "metadata": {
        "id": "kyecyrbo2t7j"
      },
      "source": [
        "## Configuración de Gastos"
      ]
    },
    {
      "cell_type": "code",
      "metadata": {
        "id": "MfJG2vq12vGw"
      },
      "source": [
        "## Se asigna el Tipo de gasto\n",
        "com_type = [\"Porcentaje del monto\", \"Fijo\"]\n",
        "sp_type = [\"Incremento de Capital\", \"Sin Incremento de Capital\"]\n",
        "\n",
        "comision_apertura_tipo = com_type[0]\n",
        "comision_disposicion_credito_tipo = com_type[0]\n",
        "otras_comisiones_tipo = com_type[0]\n",
        "prima_seguro_tipo = sp_type[0]\n",
        "gastos_originacion_tipo = sp_type[1]\n",
        "avaluos_tipo = sp_type[1]\n",
        "gastos_investigacion_tipo = sp_type[1]\n",
        "evaluacion_crediticia_tipo = sp_type[1]\n",
        "evaluacion_garantias_tipo = sp_type[1]\n",
        "negociaciones_terminos_tipo = sp_type[1]\n",
        "v_gastos = np.array([prima_seguro_tipo,gastos_originacion_tipo, avaluos_tipo, gastos_investigacion_tipo, evaluacion_crediticia_tipo, evaluacion_garantias_tipo, negociaciones_terminos_tipo])"
      ],
      "execution_count": null,
      "outputs": []
    },
    {
      "cell_type": "code",
      "metadata": {
        "id": "7fKsLG322vG0"
      },
      "source": [
        "## Frecuencia de pago\n",
        "sp_freq_pago = [\"Al inicio\", \"Anual\", \"Al inicio y anual\"]\n",
        "\n",
        "comision_apertura_freq_pago = sp_freq_pago[0]\n",
        "comision_disposicion_credito_freq_pago = sp_freq_pago[0]\n",
        "otras_comisiones_freq_pago = sp_freq_pago[0]\n",
        "prima_seguro_freq_pago = sp_freq_pago[0]\n",
        "gastos_originacion_freq_pago = sp_freq_pago[0]\n",
        "avaluos_freq_pago = sp_freq_pago[0]\n",
        "gastos_investigacion_freq_pago = sp_freq_pago[0]\n",
        "evaluacion_crediticia_freq_pago = sp_freq_pago[0]\n",
        "evaluacion_garantias_freq_pago = sp_freq_pago[0]\n",
        "negociaciones_terminos_freq_pago = sp_freq_pago[0]"
      ],
      "execution_count": null,
      "outputs": []
    },
    {
      "cell_type": "code",
      "metadata": {
        "id": "1_6oQUBx2vG0"
      },
      "source": [
        "## Costo de transaccion\n",
        "cost_trans_type = [\"No financiado\",\"Financiado\"]\n",
        "\n",
        "comision_apertura_costo_transaccion = cost_trans_type[0]\n",
        "comision_disposicion_credito_costo_transaccion = cost_trans_type[0]\n",
        "otras_comisiones_costo_transaccion = cost_trans_type[0]\n",
        "prima_seguro_costo_transaccion = cost_trans_type[1]\n",
        "gastos_originacion_costo_transaccion = cost_trans_type[0]\n",
        "avaluos_costo_transaccion = cost_trans_type[0]\n",
        "gastos_investigacion_costo_transaccion = cost_trans_type[0]\n",
        "evaluacion_crediticia_costo_transaccion = cost_trans_type[0]\n",
        "evaluacion_garantias_costo_transaccion = cost_trans_type[0]\n",
        "negociaciones_terminos_costo_transaccion = cost_trans_type[0]"
      ],
      "execution_count": null,
      "outputs": []
    },
    {
      "cell_type": "code",
      "metadata": {
        "id": "M2JPwF1O2vG0"
      },
      "source": [
        "## Se asigna el Pagado por\n",
        "paid_by = [\"\", \"Cliente\", \"Monex\"]\n",
        "\n",
        "comision_apertura_pagado_por = paid_by[0]\n",
        "comision_disposicion_credito_pagado_por = paid_by[0]\n",
        "otras_comisiones_pagado_por = paid_by[0]\n",
        "prima_seguro_pagado_por = paid_by[1]\n",
        "gastos_originacion_pagado_por = paid_by[2]\n",
        "avaluos_pagado_por = paid_by[2]\n",
        "gastos_investigacion_pagado_por = paid_by[2]\n",
        "evaluacion_crediticia_pagado_por = paid_by[2]\n",
        "evaluacion_garantias_pagado_por = paid_by[2]\n",
        "negociaciones_terminos_pagado_por = paid_by[2]"
      ],
      "execution_count": null,
      "outputs": []
    },
    {
      "cell_type": "markdown",
      "metadata": {
        "id": "-L2StfFsUQrl"
      },
      "source": [
        "# Funciones"
      ]
    },
    {
      "cell_type": "markdown",
      "metadata": {
        "id": "GL1fqsimsC1C"
      },
      "source": [
        "## Auxiliares de amortización\n"
      ]
    },
    {
      "cell_type": "code",
      "metadata": {
        "id": "ICOJ29YTTI6i"
      },
      "source": [
        "def change_str_to_date(str_date, t = 1, format_ = \"%d/%m/%Y\"): # Función que permite pasar de str a date\n",
        "    if format_ != \"%d/%m/%Y\": \n",
        "        str_date = datetime.datetime.strptime(str_date,\"%m/%d/%Y\")\n",
        "    else:\n",
        "        str_date = datetime.datetime.strptime(str_date,\"%d/%m/%Y\")\n",
        "    \n",
        "    if t == 1:\n",
        "        return str_date.strftime(\"%d/%m/%Y\")\n",
        "    else:\n",
        "        return str_date"
      ],
      "execution_count": null,
      "outputs": []
    },
    {
      "cell_type": "code",
      "metadata": {
        "id": "cXtBPgu7YbR4"
      },
      "source": [
        "change_str_to_date_arg = functools.partial(change_str_to_date, t = 1, format_ = \"%m/%d/%Y\")\n",
        "tasas_historicas[\"Tasa_Ref\"] = list(map(change_str_to_date_arg,tasas_historicas[\"Tasa_Ref\"]))"
      ],
      "execution_count": null,
      "outputs": []
    },
    {
      "cell_type": "code",
      "metadata": {
        "id": "0YoCn2miaC1x"
      },
      "source": [
        "# Se obtiene el valor numérico de la frecuencia de pago segun el insumo\n",
        "def get_freq_val(freq_pago, plazo):\n",
        "    if freq_pago in [\"Mensual\", \"Int. x anticipado\", \"Otra Periodicidad\"]: #== \"Mensual\":\n",
        "        _ = 1\n",
        "    elif freq_pago == \"Bimestral\":\n",
        "        _ = 2\n",
        "    elif freq_pago == \"Trimestral\":\n",
        "        _ = 3\n",
        "    elif freq_pago == \"Semestral\":\n",
        "        _ = 6\n",
        "    elif freq_pago == \"Al vencimiento\":\n",
        "        _ = plazo\n",
        "    else:\n",
        "        _ = 0\n",
        "    return _"
      ],
      "execution_count": null,
      "outputs": []
    },
    {
      "cell_type": "code",
      "metadata": {
        "id": "2_XO7x3s22Uy"
      },
      "source": [
        "# Se obtiene la tasa de referencia segun el tipo.\n",
        "def m_t_ref(i, tasa_referencia):\n",
        "    if tasa_referencia == \"fija\":\n",
        "        _ = credits_table.loc[i,\"TASA_FIJA\"] # Max_de_Tasa_Fija_Valor\n",
        "    else:\n",
        "        _ = credits_table.loc[i,\"TASA_MARGEN\"] # Max_de_Margen\n",
        "    return _"
      ],
      "execution_count": null,
      "outputs": []
    },
    {
      "cell_type": "code",
      "metadata": {
        "id": "aY5NGv62d3Cf"
      },
      "source": [
        "def get_parameters(credit_index): # Función que permite tener todos los parámetros de un crédito\n",
        "    # Por credito\n",
        "    i = credit_index#794 # indice de credito 1,,13 35, 56, 72, 50, 156, 582, 18, 476, 103\n",
        "    linea_id = credits_table.loc[i,\"ID\"] # Identificador de la linea de credito, Llave\n",
        "    freq_pago_capital =  credits_table.loc[i,\"PAGO_CAPITAL\"] # Frecuencia de pago de Capital Descripcion, Capital_traduccion\n",
        "    freq_pago_intereses = credits_table.loc[i,\"PAGO_INTERESES\"] # Frecuencia de pago de Intereses Descripcion, Interes_traduccion\n",
        "    tasa_referencia = credits_table.loc[i,\"TASA_REFERENCIA\"].strip() # Tasa de Referencia, Tasa_Ref_2\n",
        "    margen_tasa_referencia = m_t_ref(i, tasa_referencia) # Margen Tasa de Referencia\n",
        "    monto_original_linea = credits_table.loc[i,\"MONTO\"] # Monto original de la linea, Max_de_Monto_Original_linea\n",
        "    plazo_original_linea = credits_table.loc[i,\"PLAZO\"] # Plazo Original de la linea en meses, Max_de_Plazo_en_Meses\n",
        "    periodo_gracia_capital = credits_table.loc[i,\"PERIODO_GRACIA_CAP\"] # Periodo de gracia de Capital (Meses), Max_de_Periodo_de_Gracia_Capital\n",
        "    periodo_gracia_intereses = credits_table.loc[i,\"PERIODO_GRACIA_INT\"] # Periodo de gracia de Intereses (Meses), Max_de_Periodo_de_Gracia_Interes\n",
        "    divisa = credits_table.loc[i,\"DIVISA\"] # Divisa, Divisa_Linea\n",
        "    fecha_inicio_credito = credits_table.loc[i,\"FECHA\"] # Max_de_Fecha_aprobacion_Comite\n",
        "    fecha_inicio_credito_date = datetime.datetime.strptime(fecha_inicio_credito,\"%m/%d/%Y\") # \"%d/%m/%Y\" fecha_inicio_credito se convierte a datetime\n",
        "    #fecha_fin_credito = datetime.date(2025, 1, 1)\n",
        "    periodo_remanente_capital = plazo_original_linea - periodo_gracia_capital # Periodo remanente de Capital\n",
        "    periodo_remanente_intereses = plazo_original_linea - periodo_gracia_intereses\t# Periodo remanente de Intereses\n",
        "    freq_pago_capital_val = get_freq_val(freq_pago_capital, plazo_original_linea)   # Frecuencia de pago de Capital (Meses)\n",
        "    freq_pago_intereses_val\t= get_freq_val(freq_pago_intereses, plazo_original_linea) # Frecuencia de pago de Intereses (Meses)\n",
        "\n",
        "    mes = fecha_inicio_credito_date.month # mes de fecha de inicio\n",
        "    anno = fecha_inicio_credito_date.year # anno de fecha de inicio\n",
        "    fecha_inicio_credito_dia1 = datetime.date(anno,mes,1).strftime(\"%d/%m/%Y\")\n",
        "    date_row = tasas_historicas[\"Tasa_Ref\"] == fecha_inicio_credito_dia1 # renglon de fecha Tasa_Ref\n",
        "    t_referencia = float((tasas_historicas.loc[date_row, tasa_referencia].to_numpy()[0]).replace(\"%\",\"\")) #Tasa de referencia\n",
        "    tasa = (t_referencia + float(margen_tasa_referencia)) / 100 # Tasa para calcular valores de interés.\n",
        "    tasa_mensualizada = tasa * DIAS_PROM_MES / BASE_DIAS_INTERES_ANUAL\n",
        "\n",
        "    return linea_id, freq_pago_capital, freq_pago_intereses, tasa_referencia, monto_original_linea,plazo_original_linea, periodo_gracia_capital,\\\n",
        "    periodo_gracia_intereses, periodo_remanente_capital, freq_pago_capital_val, freq_pago_intereses_val, tasa, tasa_mensualizada, anno, mes"
      ],
      "execution_count": null,
      "outputs": []
    },
    {
      "cell_type": "code",
      "metadata": {
        "id": "BdS9-dqosvbz"
      },
      "source": [
        "# Genera tabla en 0s con nombres de columnas segun el tipo de tabla, default es tabla de amortizacion.\n",
        "def set_table(plazo_original_linea, anno, mes, table_type = \"amortizacion\"):\n",
        "    fecha_inicio_credito_date_inicio = datetime.date(anno,mes,1)\n",
        "    mes = list(range(0, plazo_original_linea + 1 ) ) # Lista que contiene los índices de los meses\n",
        "    fecha_pago = [(fecha_inicio_credito_date_inicio + relativedelta(months = m)).strftime(\"%d/%m/%Y\") for m in mes ] # Lista que contiene las fechas de inicio de mes\n",
        "    mes_fecha = {\"Mes\": mes, \"Fecha_Pago\": fecha_pago} # Diccionario con las listas anteriores\n",
        "    \n",
        "    if table_type != \"amortizacion\":\n",
        "        # Lista con el nombre de las columnas para tabla de costos\n",
        "        table_col_names = [\"Comision_por_apertura\",\"Comision_por_disposicion\",\"Otras_comisiones\",\"Prima_del_seguro\",\\\n",
        "                           \"Costos_de_transaccion\",\"Honorarios_comisiones_pagadas\",\"Avaluos\",\"Gastos_investigacion\",\\\n",
        "                           \"Evaluacion_crediticia_del_deudor\",\"Evaluacion_reconocimiento_de_garantias\",\\\n",
        "                           \"Negociaciones_para_terminos_credito\"]\n",
        "    else:\n",
        "        # Lista con el nombre de las columnas para tabla de amortizacion\n",
        "        table_col_names = [\"Monto_a_pagar\",\"Interes_Ordinario_Previo\",\"Interes_Ordinario\",\"IVA\", \"Principal_Aux\",\\\n",
        "                           \"Principal\",\"Saldo\", \"Aux_Int1\",\"Aux_Int2\",\"Aux_Principal1\",\"Aux_Principal2\",\"Aux_Principal3\"]\n",
        "\n",
        "    col_zeros = {acn : np.zeros( plazo_original_linea + 1 ) for acn in table_col_names } #Se inicializan valores de columnas en 0s\n",
        "    table_ = pd.concat( [pd.DataFrame(mes_fecha), pd.DataFrame(col_zeros )] , axis= 1) # Se inicializa la Tabla de Amortizacion con\n",
        "    # las columnas e indices necesarios.\n",
        "    return table_"
      ],
      "execution_count": null,
      "outputs": []
    },
    {
      "cell_type": "markdown",
      "metadata": {
        "id": "QiIR7p3K_txJ"
      },
      "source": [
        "## Tabla de Amortización"
      ]
    },
    {
      "cell_type": "code",
      "metadata": {
        "id": "oz_hD55Od3H-"
      },
      "source": [
        "def create_amortization_table(parameters_):\n",
        "    freq_pago_capital, freq_pago_intereses, tasa_referencia, monto_original_linea, plazo_original_linea, periodo_gracia_capital,\\\n",
        "    periodo_gracia_intereses, periodo_remanente_capital, freq_pago_capital_val, freq_pago_intereses_val, tasa, tasa_mensualizada, anno, mes = parameters_\n",
        "\n",
        "    amortiazation_table = set_table(plazo_original_linea , anno, mes) # Inicia la tabla en 0s\n",
        "    amortiazation_table.loc[0,\"Saldo\"] =  monto_original_linea\n",
        "    s_interes = 0\n",
        "    s_capital = 0\n",
        "\n",
        "    for m in amortiazation_table.loc[1:,\"Mes\"] : # Se recorre por indice de mes\n",
        "        \"\"\"saldo_anterior = amortiazation_table.loc[m - 1 ,\"Saldo\"] # Se obtiene el saldo anterior\n",
        "\n",
        "        # V. Se calcula columna Interes_Ordinario_Previo, se mantiende para todas las freq de pago.\n",
        "        if m > plazo_original_linea: \n",
        "            amortiazation_table.loc[m ,\"Interes_Ordinario_Previo\"] = 0\n",
        "        else:\n",
        "            amortiazation_table.loc[m ,\"Interes_Ordinario_Previo\"] = (tasa * DIAS_PROM_MES / BASE_DIAS_INTERES_ANUAL) * saldo_anterior \"\"\"\n",
        "\n",
        "        # V2. Se calcula columna Aux_Int1, columna auxiliar para el calculo de columna Interes_Ordinario, se mantiende para todas las freq de pago..\n",
        "        if m > plazo_original_linea:\n",
        "            amortiazation_table.loc[m ,\"Aux_Int1\"] = 0\n",
        "        elif m <= periodo_gracia_intereses:\n",
        "            amortiazation_table.loc[m ,\"Aux_Int1\"] = 1\n",
        "        else:\n",
        "            try:\n",
        "                amortiazation_table.loc[m ,\"Aux_Int1\"] = np.ceil( (m - periodo_gracia_intereses) / freq_pago_intereses_val )\n",
        "            except:\n",
        "                amortiazation_table.loc[m ,\"Aux_Int1\"] = 0\n",
        "\n",
        "        # V2. Se calcula columna Aux_Int2, columna auxiliar para el calculo de columna Interes_Ordinario, se mantiende para todas las freq de pago..\n",
        "        try:\n",
        "            if m <= periodo_gracia_intereses or m > plazo_original_linea:\n",
        "                amortiazation_table.loc[m ,\"Aux_Int2\"] = 0\n",
        "            elif ((m - periodo_gracia_intereses) % freq_pago_intereses_val) == 0 or m == plazo_original_linea or m == periodo_gracia_intereses:\n",
        "                amortiazation_table.loc[m ,\"Aux_Int2\"] = 1\n",
        "            else:\n",
        "                amortiazation_table.loc[m ,\"Aux_Int2\"] = 0\n",
        "        except:\n",
        "            amortiazation_table.loc[m ,\"Aux_Int2\"] = 0\n",
        "        \n",
        "        # V2. Se calcula columna Aux_Principal1, columna auxiliar para el calculo de columna Principal, se mantiende para todas las freq de pago.\n",
        "        if m <= periodo_gracia_capital or m > plazo_original_linea:\n",
        "            amortiazation_table.loc[m ,\"Aux_Principal1\"] = 0\n",
        "        else:\n",
        "            try:\n",
        "                amortiazation_table.loc[m ,\"Aux_Principal1\"] = np.ceil( (m - periodo_gracia_capital) / freq_pago_capital_val )\n",
        "            except:\n",
        "                amortiazation_table.loc[m ,\"Aux_Principal1\"] = 0\n",
        "\n",
        "        # V2. Se calcula columna Aux_Principal2, columna auxiliar para el calculo de columna Principal, se mantiende para todas las freq de pago.\n",
        "        try:\n",
        "            if m <= periodo_gracia_capital or m > plazo_original_linea:\n",
        "                amortiazation_table.loc[m ,\"Aux_Principal2\"] = 0\n",
        "            elif ((m - periodo_gracia_capital) % freq_pago_capital_val ) == 0 or m == plazo_original_linea:\n",
        "                amortiazation_table.loc[m ,\"Aux_Principal2\"] = 1\n",
        "            else:\n",
        "                amortiazation_table.loc[m ,\"Aux_Principal2\"] = 0\n",
        "        except:\n",
        "            amortiazation_table.loc[m ,\"Aux_Principal2\"] = 0\n",
        "        \n",
        "        # V2. Se calcula columna Aux_Principal3, columna auxiliar para el calculo de columna Principal, se mantiende para todas las freq de pago.\n",
        "        if periodo_gracia_capital == 0:\n",
        "            amortiazation_table.loc[m ,\"Aux_Principal3\"] = amortiazation_table.loc[m ,\"Aux_Principal2\"]\n",
        "        else:\n",
        "            try:\n",
        "                if m <= periodo_gracia_capital or m > plazo_original_linea:\n",
        "                    amortiazation_table.loc[m ,\"Aux_Principal3\"] = 0\n",
        "                elif ((m - periodo_gracia_capital + freq_pago_capital_val - 1 ) % freq_pago_capital_val ) == 0:\n",
        "                    amortiazation_table.loc[m ,\"Aux_Principal3\"] = 1\n",
        "                else:\n",
        "                    amortiazation_table.loc[m ,\"Aux_Principal3\"] = 0\n",
        "            except:\n",
        "                amortiazation_table.loc[m ,\"Aux_Principal3\"] = 0\n",
        "\n",
        "\n",
        "        if freq_pago_intereses != \"Int. x anticipado\":\n",
        "            if m <= periodo_gracia_capital or m > plazo_original_linea: \n",
        "                    amortiazation_table.loc[m ,\"Principal_Aux\"]  = 0\n",
        "            else:\n",
        "                amortiazation_table.loc[m ,\"Principal_Aux\"]  = monto_original_linea / periodo_remanente_capital\n",
        "\n",
        "    for m_ in amortiazation_table.loc[1:,\"Mes\"] :\n",
        "\n",
        "        saldo_anterior = amortiazation_table.loc[m_ - 1 ,\"Saldo\"] # Se obtiene el saldo anterior\n",
        "\n",
        "        # V2. Se calcula columna Interes_Ordinario_Previo, se mantiende para todas las freq de pago. Bien\n",
        "        if m_ > plazo_original_linea: \n",
        "            amortiazation_table.loc[m_ ,\"Interes_Ordinario_Previo\"] = 0\n",
        "        else:\n",
        "            amortiazation_table.loc[m_ ,\"Interes_Ordinario_Previo\"] = (tasa * DIAS_PROM_MES / BASE_DIAS_INTERES_ANUAL) * saldo_anterior\n",
        "            \n",
        "        # V2. Se calcula columna Interes_Ordinario, usando Aux_Int1 y Aux_Int2, se mantiende para todas las freq de pago. Bien\n",
        "        if freq_pago_intereses in [\"Mensual\", \"Int. x anticipado\", \"Otra Periodicidad\"]:  #== \"Mensual\":\n",
        "            amortiazation_table.loc[m_ ,\"Interes_Ordinario\"] = amortiazation_table.loc[m_ ,\"Interes_Ordinario_Previo\"]\n",
        "        elif freq_pago_intereses in [\"Bimestral\", \"Trimestral\", \"Semestral\", \"Al vencimiento\"] and amortiazation_table.loc[m_ ,\"Aux_Int2\"] == 1:\n",
        "            s_interes += 1\n",
        "            sum_index = np.where(amortiazation_table.loc[:,\"Aux_Int1\"] == s_interes) # Indice de perido\n",
        "            amortiazation_table.loc[m_ ,\"Interes_Ordinario\"] = np.sum(amortiazation_table.loc[sum_index, \"Interes_Ordinario_Previo\"]) # Suma de intereses del periodo\n",
        "        else:\n",
        "            amortiazation_table.loc[m_ ,\"Interes_Ordinario\"] = 0\n",
        "\n",
        "        \n",
        "       ### Caso de Int. x anticipado\n",
        "        if freq_pago_intereses == \"Int. x anticipado\":\n",
        "            if freq_pago_capital == \"Mensual\":\n",
        "                if m_ > plazo_original_linea:\n",
        "                    amortiazation_table.loc[m_ ,\"Monto_a_pagar\"] = 0\n",
        "                else:\n",
        "                    amortiazation_table.loc[m_ ,\"Monto_a_pagar\"] = (monto_original_linea * tasa_mensualizada)/(1 - (1 + tasa_mensualizada)**(-plazo_original_linea) )\n",
        "                \n",
        "                amortiazation_table.loc[m_ ,\"Principal_Aux\"] =  amortiazation_table.loc[m_ ,\"Monto_a_pagar\"] - amortiazation_table.loc[m_ ,\"Interes_Ordinario_Previo\"]\n",
        "                amortiazation_table.loc[m_ ,\"Principal\"] = amortiazation_table.loc[m_ ,\"Principal_Aux\"]\n",
        "            \n",
        "            else:\n",
        "                if m_ <= periodo_gracia_capital or m_ > plazo_original_linea:\n",
        "                    amortiazation_table.loc[m_ ,\"Principal_Aux\"] = 0\n",
        "                else:\n",
        "                    amortiazation_table.loc[m_ ,\"Principal_Aux\"] = monto_original_linea / periodo_remanente_capital\n",
        "                \n",
        "                if amortiazation_table.loc[m_ ,\"Aux_Principal3\"] == 1:\n",
        "                    s_capital += 1\n",
        "                    capital_sum_index = np.where(amortiazation_table.loc[:,\"Aux_Principal1\"] == s_capital) # Indice de perido\n",
        "                    amortiazation_table.loc[m_ ,\"Principal\"] = np.sum(amortiazation_table.loc[capital_sum_index, \"Principal_Aux\"]) # Suma de intereses del periodo\n",
        "                else:\n",
        "                    amortiazation_table.loc[m_ ,\"Principal\"] = 0\n",
        "                \n",
        "                amortiazation_table.loc[m_ ,\"Monto_a_pagar\"] = amortiazation_table.loc[m_ ,\"Interes_Ordinario\"] + amortiazation_table.loc[m_ ,\"IVA\"] + amortiazation_table.loc[m_ ,\"Principal\"]\n",
        "        \n",
        "        ### Caso de \"Bimestral\", \"Trimestral\", \"Semestral\", \"Al vencimiento\"\n",
        "        else:\n",
        "            # V2. Se calcula columna Principal_Aux, se mantiende para todas las freq de pago.\n",
        "            #if m_ <= periodo_gracia_capital or m_ > plazo_original_linea: \n",
        "            #    amortiazation_table.loc[m_ ,\"Principal_Aux\"]  = 0\n",
        "            #else:\n",
        "            #    amortiazation_table.loc[m_ ,\"Principal_Aux\"]  = monto_original_linea / periodo_remanente_capital\n",
        "\n",
        "            # V2. Se calcula columna Principal, usando Principal_Aux, Aux_Principal1 y Aux_Principal3\n",
        "            if freq_pago_capital == \"Mensual\":\n",
        "                amortiazation_table.loc[m_ ,\"Principal\"] = amortiazation_table.loc[m_ ,\"Principal_Aux\"]\n",
        "            elif freq_pago_capital in [\"Bimestral\", \"Trimestral\", \"Semestral\", \"Al vencimiento\"] and amortiazation_table.loc[m_ ,\"Aux_Principal3\"] == 1:\n",
        "                s_capital += 1\n",
        "                capital_sum_index = np.where(amortiazation_table.loc[:,\"Aux_Principal1\"] == s_capital) # Indice de perido\n",
        "                amortiazation_table.loc[m_ ,\"Principal\"] = np.sum(amortiazation_table.loc[capital_sum_index, \"Principal_Aux\"]) # Suma de intereses del periodo\n",
        "            else:\n",
        "                amortiazation_table.loc[m_ ,\"Principal\"] = 0\n",
        "            \n",
        "            # V2. Se calcula columna Monto a Pagar, se mantiende para todas las freq de pago.\n",
        "            if freq_pago_intereses == \"Int. x anticipado\":\n",
        "                if freq_pago_capital == \"Al vencimiento\":\n",
        "                    amortiazation_table.loc[m_ ,\"Monto_a_pagar\"] = amortiazation_table.loc[m_ ,\"Interes_Ordinario\"] + amortiazation_table.loc[m_ ,\"IVA\"] + amortiazation_table.loc[m_ ,\"Principal\"]\n",
        "                elif m_ > freq_pago_capital_val:\n",
        "                    0\n",
        "                else:\n",
        "                    amortiazation_table.loc[m_ ,\"Monto_a_pagar\"] = (monto_original_linea * tasa_mensualizada)/(1 - (1 + tasa_mensualizada)**(-plazo_original_linea) )\n",
        "            else:\n",
        "                amortiazation_table.loc[m_ ,\"Monto_a_pagar\"] = amortiazation_table.loc[m_ ,\"Interes_Ordinario\"] + amortiazation_table.loc[m_ ,\"IVA\"] + amortiazation_table.loc[m_ ,\"Principal\"]\n",
        "            \n",
        "        # V2. Se calcula columna Saldo, se mantiende para todas las freq de pago.\n",
        "        amortiazation_table.loc[m_ ,\"Saldo\"] = saldo_anterior - amortiazation_table.loc[m_ ,\"Principal\"]\n",
        "    \n",
        "    \n",
        "    return amortiazation_table"
      ],
      "execution_count": null,
      "outputs": []
    },
    {
      "cell_type": "code",
      "metadata": {
        "id": "ULs2WeoZTmFs"
      },
      "source": [
        ""
      ],
      "execution_count": null,
      "outputs": []
    },
    {
      "cell_type": "markdown",
      "metadata": {
        "id": "5XrYemiRuVi9"
      },
      "source": [
        "## Auxiliares de Tabla de Gastos"
      ]
    },
    {
      "cell_type": "code",
      "metadata": {
        "id": "Io9q85_DnXjO"
      },
      "source": [
        "def get_split_array(column_): # Función que divide texto en una lista\n",
        "    aux_array = []\n",
        "    for aux_ in column_:\n",
        "        aux_array.append(aux_.split())\n",
        "     \n",
        "    return np.array(aux_array)"
      ],
      "execution_count": null,
      "outputs": []
    },
    {
      "cell_type": "code",
      "metadata": {
        "id": "8EFwXfkL5f5h"
      },
      "source": [
        "def get_fst_day(date_):\n",
        "    mes = date_.month # mes de fecha de inicio\n",
        "    anno = date_.year # anno de fecha de inicio\n",
        "    return datetime.date(anno,mes,1).strftime(\"%d/%m/%Y\")"
      ],
      "execution_count": null,
      "outputs": []
    },
    {
      "cell_type": "code",
      "metadata": {
        "id": "-Rft_IBLvLhv"
      },
      "source": [
        "aux_id_array = get_split_array(gastos_table[\"AUX_ID\"]) # Se divide en 2 columnas AUX_ID\n",
        "gastos_table[\"tipo_gasto2\"] = aux_id_array[:,0] # Primera parte se asigna a tipo_gasto2\n",
        "gastos_table[\"Llave2\"] = aux_id_array[:,1] # Segunda parte se asigna a Llave2"
      ],
      "execution_count": null,
      "outputs": []
    },
    {
      "cell_type": "code",
      "metadata": {
        "id": "P3WVeJDpvGMi"
      },
      "source": [
        "aux_fecha = get_split_array(gastos_table[\"AUX_FECHA\"]) # Se toma la columna AUX_FECHA y se divide\n",
        "aux_fecha = aux_fecha[:,0] \n",
        "change_str_to_date_arg = functools.partial(change_str_to_date, t = 0, format_ = \"%d/%m/%Y\") #Se transforma en fecha con formato dd/mm/yyyy\n",
        "aux_fecha = list(map(get_fst_day, list(map(change_str_to_date_arg,aux_fecha) ))) #Se obtiene fecha al primer día del mes\n",
        "gastos_table[\"Anio_mes2\"] = aux_fecha # El resultado se asigna a Anio_mes2"
      ],
      "execution_count": null,
      "outputs": []
    },
    {
      "cell_type": "code",
      "metadata": {
        "id": "VwuQQdWGzj-K"
      },
      "source": [
        "gastos_table[\"Gasto2\"] = gastos_table[\"Total OC\"] #Se asigna el valor de Gasto2 a Total OC"
      ],
      "execution_count": null,
      "outputs": []
    },
    {
      "cell_type": "code",
      "metadata": {
        "id": "bd0ZHsrQvcFt"
      },
      "source": [
        "# Esta función ayuda a calcular valores de las columnas de: Prima de seguro,\n",
        "#honoraios, avalus, gastos de investigación, evaluación crediticia, etc.\n",
        "def small_conditionals(m_index, plazo_ol, var_freq_pago, var_valor):\n",
        "    alt_val = 0\n",
        "    if m_index > plazo_ol:\n",
        "        alt_val = 0\n",
        "    elif var_freq_pago == \"Al inicio\" and m_index == 0:\n",
        "        alt_val = var_valor\n",
        "    elif var_freq_pago == \"Anual\" and m_index % 12 == 0 and m != 0:\n",
        "        alt_val = var_valor\n",
        "    elif var_freq_pago == \"Al inicio y anual\" and m_index % 12 == 0:\n",
        "        alt_val = var_valor\n",
        "    else:\n",
        "        alt_val = 0\n",
        "    return alt_val"
      ],
      "execution_count": null,
      "outputs": []
    },
    {
      "cell_type": "code",
      "metadata": {
        "id": "SmlsqkQ_sVrh"
      },
      "source": [
        "# Ayuda a calular columnas Comisión por apertura, Comisión por disposición,\n",
        "# Otras comisiones\n",
        "def big_conditionals(m_index, plazo_ol, var_freq_pago, var_tipo, var_valor, monto_original_linea):\n",
        "    alt_val = 0\n",
        "    if m_index > plazo_ol:\n",
        "        alt_val = 0\n",
        "    elif var_freq_pago == \"Al inicio\" and m_index == 0:\n",
        "        if var_tipo == \"Porcentaje del monto\":\n",
        "            alt_val = monto_original_linea * var_valor\n",
        "        elif var_tipo == \"Fijo\":\n",
        "            alt_val = var_valor\n",
        "        else:\n",
        "            alt_val = 0\n",
        "\n",
        "    elif var_freq_pago == \"Anual\" and m_index % 12 == 0 and m_index != 0:\n",
        "        if var_tipo == \"Porcentaje del monto\":\n",
        "            alt_val = monto_original_linea * var_valor\n",
        "        elif var_tipo == \"Fijo\":\n",
        "            alt_val = var_valor\n",
        "        else:\n",
        "            alt_val = 0\n",
        "\n",
        "    elif var_freq_pago == \"Al inicio y anual\" and m_index % 12 == 0:\n",
        "        if var_tipo == \"Porcentaje del monto\":\n",
        "            alt_val = monto_original_linea * var_valor\n",
        "        elif var_tipo == \"Fijo\":\n",
        "            alt_val = var_valor\n",
        "        else:\n",
        "            alt_val = 0\n",
        "    else:\n",
        "        alt_val = 0\n",
        "\n",
        "    return alt_val"
      ],
      "execution_count": null,
      "outputs": []
    },
    {
      "cell_type": "markdown",
      "metadata": {
        "id": "JAwbje7-VYUO"
      },
      "source": [
        "## Tabla de Gastos"
      ]
    },
    {
      "cell_type": "code",
      "metadata": {
        "id": "ZcBinog47PXQ"
      },
      "source": [
        "# Función principal que ayuda a calcular la tabla de gastos.\n",
        "def create_cost_table(monto_original_linea, plazo_original_linea, anno, mes ):\n",
        "    cost_table = set_table(plazo_original_linea, anno, mes ,\"costos\")\n",
        "    for m in cost_table[\"Mes\"]:\n",
        "        # Big conditionals\n",
        "        cost_table.loc[m, \"Comision_por_apertura\"] = big_conditionals(m, plazo_original_linea, comision_apertura_freq_pago, comision_apertura_tipo, comision_apertura_valor, monto_original_linea)\n",
        "        cost_table.loc[m, \"Comision_por_disposicion\"] = big_conditionals(m, plazo_original_linea, comision_disposicion_credito_freq_pago, comision_disposicion_credito_tipo, comision_disposicion_credito_valor, monto_original_linea)\n",
        "        cost_table.loc[m, \"Otras_comisiones\"] = big_conditionals(m, plazo_original_linea, otras_comisiones_freq_pago, otras_comisiones_tipo ,otras_comisiones_valor, monto_original_linea)\n",
        "        #print(m)\n",
        "        # Small conditonals\n",
        "        cost_table.loc[m, \"Prima_del_seguro\"] = small_conditionals(m, plazo_original_linea, prima_seguro_freq_pago, prima_seguro_valor)\n",
        "        cost_table.loc[m, \"Honorarios_comisiones_pagadas\"] = small_conditionals(m, plazo_original_linea, gastos_originacion_freq_pago, gastos_originacion_valor)\n",
        "        cost_table.loc[m, \"Avaluos\"] = small_conditionals(m, plazo_original_linea, avaluos_freq_pago, avaluos_valor)\n",
        "        cost_table.loc[m, \"Gastos_investigacion\"] = small_conditionals(m, plazo_original_linea, gastos_investigacion_freq_pago, gastos_investigacion_valor)\n",
        "        cost_table.loc[m, \"Evaluacion_crediticia_del_deudor\"] = small_conditionals(m, plazo_original_linea, evaluacion_crediticia_freq_pago, evaluacion_crediticia_valor)\n",
        "        cost_table.loc[m, \"Evaluacion_reconocimiento_de_garantias\"] = small_conditionals(m, plazo_original_linea, evaluacion_garantias_freq_pago, evaluacion_garantias_valor)\n",
        "        cost_table.loc[m, \"Negociaciones_para_terminos_credito\"] = small_conditionals(m, plazo_original_linea, negociaciones_terminos_freq_pago, negociaciones_terminos_valor)\n",
        "    cost_table[\"Costos_de_transaccion\"] = cost_table[\"Honorarios_comisiones_pagadas\"] + cost_table[\"Avaluos\"] + cost_table[\"Gastos_investigacion\"] + cost_table[\"Evaluacion_crediticia_del_deudor\"] + cost_table[\"Evaluacion_reconocimiento_de_garantias\"] + cost_table[\"Negociaciones_para_terminos_credito\"]\n",
        "    return cost_table"
      ],
      "execution_count": null,
      "outputs": []
    },
    {
      "cell_type": "code",
      "metadata": {
        "id": "eTbNnHHovcqf"
      },
      "source": [
        "#sum(cost_table[\"Prima_del_seguro\"]), sum(cost_table[\"Costos_de_transaccion\"]), sum(cost_table[\"Avaluos\"])"
      ],
      "execution_count": null,
      "outputs": []
    },
    {
      "cell_type": "markdown",
      "metadata": {
        "id": "w2XPiHF3DV_w"
      },
      "source": [
        "## Tabla Amortización Desglose"
      ]
    },
    {
      "cell_type": "code",
      "metadata": {
        "id": "2RweN1dID_9_"
      },
      "source": [
        "def create_new_amortization_table( freq_pago_int, plazo_or_linea, tie_mensual, cost_totals ):\n",
        "\n",
        "    new_amort_table = amortization_table.copy()\n",
        "    s_interes = 0\n",
        "\n",
        "    ## Ingresos\n",
        "    new_amort_table[\"n_Int_Ord_Prev\"] = 0.\n",
        "    new_amort_table[\"n_Principal\"] = 0.\n",
        "    new_amort_table[\"n_Saldo\"] = 0.\n",
        "    new_amort_table[\"n_Int_Ord\"] = 0.\n",
        "    new_amort_table[\"n_Diff_amortizacion\"] = 0.\n",
        "\n",
        "    ## Gastos\n",
        "    new_amort_table[\"n_Comision_por_apertura\"] = 0.\n",
        "    new_amort_table[\"n_Comision_por_disposicion\"] = 0.\n",
        "    new_amort_table[\"n_Otras_comisiones\"] = 0.\n",
        "    new_amort_table[\"n_Prima_del_seguro\"] = 0.\n",
        "    new_amort_table[\"n_Costos_de_transaccion\"] = 0.\n",
        "    new_amort_table[\"n_Honorarios_comisiones_pagadas\"] = 0.\n",
        "    new_amort_table[\"n_Avaluos\"] = 0.\n",
        "    new_amort_table[\"n_Gastos_investigacion\"] = 0.\n",
        "    new_amort_table[\"n_Evaluacion_crediticia_del_deudor\"] = 0.\n",
        "    new_amort_table[\"n_Evaluacion_reconocimiento_de_garantias\"] = 0.\n",
        "    new_amort_table[\"n_Negociaciones_para_terminos_credito\"] = 0.\n",
        "\n",
        "    new_amort_table.loc[0,\"n_Saldo\"] =  -1 * new_amort_table.loc[0,\"Flujo_estimado\"]\n",
        "\n",
        "    for m in new_amort_table.loc[1:,\"Mes\"]:\n",
        "        \n",
        "        ## Nuevo Int Ord Previo\n",
        "        if m > plazo_or_linea:\n",
        "            new_amort_table.loc[m, \"n_Int_Ord_Prev\"] = 0\n",
        "        else:\n",
        "            new_amort_table.loc[m, \"n_Int_Ord_Prev\"] = tie_mensual *  new_amort_table.loc[m -1 ,\"n_Saldo\"]\n",
        "        \n",
        "        ## Nuevo  Principal\n",
        "        new_amort_table.loc[m, \"n_Principal\"] = new_amort_table.loc[m, \"Flujo_estimado\"] - new_amort_table.loc[m, \"n_Int_Ord_Prev\"]\n",
        "\n",
        "        ## Nuevo Saldo\n",
        "        new_amort_table.loc[m, \"n_Saldo\"] = new_amort_table.loc[ m - 1, \"n_Saldo\"] - new_amort_table.loc[m, \"n_Principal\"]\n",
        "\n",
        "        ## Nuevo Int Ord\n",
        "        if freq_pago_int == \"Mensual\":\n",
        "            new_amort_table.loc[m, \"n_Int_Ord\"] = new_amort_table.loc[m, \"n_Int_Ord_Prev\"]\n",
        "        elif freq_pago_int in [\"Bimestral\", \"Trimestral\", \"Semestral\", \"Al vencimiento\"] and new_amort_table.loc[m ,\"Aux_Int2\"] == 1:\n",
        "            s_interes += 1\n",
        "            sum_index = np.where(new_amort_table.loc[:,\"Aux_Int1\"] == s_interes) # Indice de perido\n",
        "            new_amort_table.loc[m ,\"n_Int_Ord\"] = np.sum(new_amort_table.loc[sum_index, \"n_Int_Ord_Prev\"]) # Suma de intereses del periodo\n",
        "        else:\n",
        "            new_amort_table.loc[m ,\"n_Int_Ord\"] = 0\n",
        "\n",
        "        ## Diff Amortizacion\n",
        "        new_amort_table.loc[m ,\"n_Diff_amortizacion\"] = new_amort_table.loc[m ,\"Interes_Ordinario\"] - new_amort_table.loc[m ,\"n_Int_Ord\"]\n",
        "    \n",
        "    s_diff = np.sum(new_amort_table[\"n_Diff_amortizacion\"])\n",
        "\n",
        "    for m in new_amort_table.loc[1:,\"Mes\"]:\n",
        "        new_amort_table.loc[m, \"n_Comision_por_apertura\"] = (cost_totals[\"Comision_por_apertura\"] / s_diff) * new_amort_table.loc[m ,\"n_Diff_amortizacion\"]\n",
        "        new_amort_table.loc[m, \"n_Comision_por_disposicion\"] = (cost_totals[\"Comision_por_disposicion\"] / s_diff) * new_amort_table.loc[m ,\"n_Diff_amortizacion\"]\n",
        "        new_amort_table.loc[m, \"n_Otras_comisiones\"] = (cost_totals[\"Otras_comisiones\"] / s_diff) * new_amort_table.loc[m ,\"n_Diff_amortizacion\"]\n",
        "        new_amort_table.loc[m, \"n_Prima_del_seguro\"] = (cost_totals[\"Prima_del_seguro\"] / s_diff) * new_amort_table.loc[m ,\"n_Diff_amortizacion\"]\n",
        "        new_amort_table.loc[m, \"n_Costos_de_transaccion\"] = (cost_totals[\"Costos_de_transaccion\"] / s_diff) * new_amort_table.loc[m ,\"n_Diff_amortizacion\"]\n",
        "        new_amort_table.loc[m, \"n_Honorarios_comisiones_pagadas\"] = (cost_totals[\"Honorarios_comisiones_pagadas\"] / s_diff) * new_amort_table.loc[m ,\"n_Diff_amortizacion\"]\n",
        "        new_amort_table.loc[m, \"n_Avaluos\"] = (cost_totals[\"Avaluos\"] / s_diff) * new_amort_table.loc[m ,\"n_Diff_amortizacion\"]\n",
        "        new_amort_table.loc[m, \"n_Gastos_investigacion\"] = (cost_totals[\"Gastos_investigacion\"] / s_diff) * new_amort_table.loc[m ,\"n_Diff_amortizacion\"]\n",
        "        new_amort_table.loc[m, \"n_Evaluacion_crediticia_del_deudor\"] = (cost_totals[\"Evaluacion_crediticia_del_deudor\"] / s_diff) * new_amort_table.loc[m ,\"n_Diff_amortizacion\"]\n",
        "        new_amort_table.loc[m, \"n_Evaluacion_reconocimiento_de_garantias\"] = (cost_totals[\"Evaluacion_reconocimiento_de_garantias\"] / s_diff) * new_amort_table.loc[m ,\"n_Diff_amortizacion\"]\n",
        "        new_amort_table.loc[m, \"n_Negociaciones_para_terminos_credito\"] = (cost_totals[\"Negociaciones_para_terminos_credito\"] / s_diff) * new_amort_table.loc[m ,\"n_Diff_amortizacion\"]\n",
        "    \n",
        "    return new_amort_table\n"
      ],
      "execution_count": null,
      "outputs": []
    },
    {
      "cell_type": "code",
      "metadata": {
        "id": "7M0F-_d_EAAr"
      },
      "source": [
        "#new_amort_table = create_new_amortization_table( params[1], params[4], tie_mensual, cost_table_totals )"
      ],
      "execution_count": null,
      "outputs": []
    },
    {
      "cell_type": "code",
      "metadata": {
        "id": "slhqouI2D_6X"
      },
      "source": [
        "#new_amort_table.head()"
      ],
      "execution_count": null,
      "outputs": []
    },
    {
      "cell_type": "markdown",
      "metadata": {
        "id": "vPBkKMp_xgZj"
      },
      "source": [
        "## Tabla Output"
      ]
    },
    {
      "cell_type": "code",
      "metadata": {
        "id": "lALeiyPUD_3U"
      },
      "source": [
        "## Tabla de Fechas, comieza desde 2014 \n",
        "fecha_inicio_credits = datetime.date(2014,1,1)\n",
        "mes_inicio_credits = list(range(0, 450 ) ) # Lista que contiene los índices de los meses\n",
        "fecha_creditos_pago = [(fecha_inicio_credits + relativedelta(months = m)).strftime(\"%d/%m/%Y\") for m in mes_inicio_credits ] # Lista que contiene las fechas de inicio de mes\n",
        "mes_fechas_creditos = {\"Fecha_Pago\": fecha_creditos_pago} # Diccionario con las fechas desde ene-14\n",
        "mes_fechas_creditos = pd.DataFrame(mes_fechas_creditos) # se crea DF"
      ],
      "execution_count": null,
      "outputs": []
    },
    {
      "cell_type": "code",
      "metadata": {
        "id": "ZQLAm2SknOqn"
      },
      "source": [
        "def final_table():\n",
        "    mes_fechas_creditos2 = mes_fechas_creditos.copy() # Se genera Copia de fehas\n",
        "    df_test = new_amort_table.loc[:,['Fecha_Pago','n_Comision_por_apertura', 'n_Comision_por_disposicion', 'n_Otras_comisiones','n_Prima_del_seguro', 'n_Costos_de_transaccion']].copy() # Se toman columnas de la nueva tabla de amortizacion\n",
        "    \n",
        "    gastos_originacion_sum_index_admon =  np.where( (gastos_table[\"Llave2\"] == linea_id) & (gastos_table[\"tipo_gasto2\"] == \"ADMINISTRACIÓN\")) #Se obtienen los gastos de originacion\n",
        "    gastos_originacion_valor_admon = np.sum(gastos_table.loc[gastos_originacion_sum_index_admon, \"Gasto2\"]) #se suma el total de gastos de originacion de acuerdo al id de credito\n",
        "    df_gastos_admon = gastos_table.loc[gastos_originacion_sum_index_admon[0], [\"Anio_mes2\",\"Gasto2\"]].groupby([\"Anio_mes2\"]).agg({\"Gasto2\":\"sum\"}) # Se realiza la suma por mes.\n",
        "\n",
        "\n",
        "    mes_fechas_creditos2 = mes_fechas_creditos2.merge(df_test, how= \"left\", on=\"Fecha_Pago\" ) # Se realiza cruce de tabla df_test y tabla de fechas\n",
        "    mes_fechas_creditos2 = mes_fechas_creditos2.merge(df_gastos_admon, how= \"left\", left_on=\"Fecha_Pago\", right_on= \"Anio_mes2\" ) # Se realiza cruce de tabla de gastos de admin y tabla anterior.\n",
        "    mes_fechas_creditos2.fillna(-0, inplace= True) # Se llena con 0s los NAs\n",
        "    mes_fechas_creditos2 = mes_fechas_creditos2.set_index(\"Fecha_Pago\").T # se transpone matriz\n",
        "    mes_fechas_creditos2.reset_index(inplace=True) #Se resetean los indices\n",
        "    mes_fechas_creditos2[\"index\"] = [\"Comision por apertura\", \"Comision por disposicion\", \"Otras comisiones\", \"Prima del seguro\",\\\n",
        "                                \"Gastos de originacion\", \"Gastos de administracion\"]\n",
        "\n",
        "    df_aux_credit_values = credits_table[\"ID\"] == linea_id #Se obtienen datos de la tabla de creditos segun id de credito\n",
        "    df_aux_credit_values = credits_table.loc[df_aux_credit_values, [\"FECHA\", \"ID\", \"PRODUCTO\", \"CLIENTE\", \"TIPO_CREDITO\", \"PAGO_CAPITAL\", \"PAGO_INTERESES\",\\\n",
        "                                                                    \"MONTO\", \"TASA_REFERENCIA\",\"TASA_FIJA\",\"TASA_MARGEN\",\"PLAZO\"]]\n",
        "\n",
        "    newdf = pd.DataFrame(np.repeat(np.append(df_aux_credit_values.values, [[params[-4] , monto_neto_financiado, tie_anual]], axis =1), 6, axis=0),\\\n",
        "                        columns = list(df_aux_credit_values.columns) + [\"TASA\",\"MONTO_NET_FINANCIADO\", \"TASA_INTERES_EFECTIVA\"]) # Se genera un nuevo DF, con valores generados en el proceso\n",
        "    \n",
        "    newdf[\"T=0\"] = np.append(cost_table.loc[0,[\"Comision_por_apertura\",\"Comision_por_disposicion\",\"Otras_comisiones\",\"Prima_del_seguro\",]].values,\\\n",
        "          [-cost_table.loc[0,[\"Costos_de_transaccion\"]][0], -gastos_originacion_valor_admon] )\n",
        "    \n",
        "    mes_fechas_creditos2 = pd.concat( [newdf, mes_fechas_creditos2], axis= 1 ) # Se agregan las tablas de newdf y mes_fechas_creditos2\n",
        "\n",
        "    return mes_fechas_creditos2"
      ],
      "execution_count": null,
      "outputs": []
    },
    {
      "cell_type": "code",
      "metadata": {
        "id": "P7Qj6RCJnOuK"
      },
      "source": [
        ""
      ],
      "execution_count": null,
      "outputs": []
    },
    {
      "cell_type": "markdown",
      "metadata": {
        "id": "rk1ee0Kz7RGC"
      },
      "source": [
        "# Ejecución de Proceso"
      ]
    },
    {
      "cell_type": "code",
      "metadata": {
        "id": "ZcvU_xEPYyAm"
      },
      "source": [
        "credit_idex_list = list(credits_table.index)"
      ],
      "execution_count": null,
      "outputs": []
    },
    {
      "cell_type": "code",
      "metadata": {
        "id": "YJVkf45vuotW"
      },
      "source": [
        "table_f_append = pd.DataFrame()"
      ],
      "execution_count": null,
      "outputs": []
    },
    {
      "cell_type": "code",
      "metadata": {
        "colab": {
          "base_uri": "https://localhost:8080/"
        },
        "id": "xCz3DSWf7t3x",
        "outputId": "66f69fea-4d19-40e9-db75-ce047558f267"
      },
      "source": [
        "for cil in credit_idex_list:\n",
        "\n",
        "    params = get_parameters(cil) # 381, 1099, 1027, 1175, 469, 1095, 535, 284, 393,168,948, 678 , 850\n",
        "    linea_id = params[0]\n",
        "    params = list(params[1:])\n",
        "\n",
        "    #Se filtra la tabla de gatstos con el valor de linea_id\n",
        "    linea_id_index = credits_table[\"ID\"] == linea_id\n",
        "\n",
        "    ## Se asigna el Valor\n",
        "    comision_apertura_valor = float(credits_table.loc[linea_id_index,\"PCT_APERTURA\"]) #0\n",
        "    comision_disposicion_credito_valor = float(credits_table.loc[linea_id_index,\"PCT_DESEMBOLSO\"]) #0\n",
        "    otras_comisiones_valor = float(credits_table.loc[linea_id_index,\"PCT_OTRAS_COM\"]) #0\n",
        "    prima_seguro_valor = 0\n",
        "    gastos_originacion_sum_index =  np.where( (gastos_table[\"Llave2\"] == linea_id) & (gastos_table[\"tipo_gasto2\"] == \"ORIGINACIÓN\"))\n",
        "    gastos_originacion_valor = np.sum(gastos_table.loc[gastos_originacion_sum_index, \"Gasto2\"])\n",
        "    avaluos_valor = 0\n",
        "    gastos_investigacion_valor = 0\n",
        "    evaluacion_crediticia_valor = 0\n",
        "    evaluacion_garantias_valor = 0\n",
        "    negociaciones_terminos_valor = 0\n",
        "\n",
        "    i_v_gastos = np.where(v_gastos == \"Incremento de Capital\")\n",
        "    v_gastos_valor = np.array([prima_seguro_valor,gastos_originacion_valor, avaluos_valor, gastos_investigacion_valor, evaluacion_crediticia_valor, evaluacion_garantias_valor, negociaciones_terminos_valor])\n",
        "\n",
        "    s_gastos_valor = np.sum(v_gastos_valor[i_v_gastos] )\n",
        "\n",
        "    params[3] = params[3] + s_gastos_valor\n",
        "\n",
        "    # Se crea Tabla de Amortizacion\n",
        "    amortization_table = create_amortization_table(params)\n",
        "\n",
        "    ## Calulo de monto neto Financiado\n",
        "    cost_table = create_cost_table(params[3], params[4],params[-2],params[-1]) # Se crea Tabla de Costos\n",
        "    cost_table_totals = cost_table.iloc[:,2:].sum() # Se realiza la suma de las columnas de la tabla de costos, excepto las primeras 2\n",
        "    cost_table_totals = cost_table_totals * np.array([-1, -1, -1, -1, 1, 1, 1, 1, 1, 1, 1]) # Se realiza la multiplicación según signo.\n",
        "\n",
        "    monto_neto_financiado = params[3] + np.sum([cost_table_totals]) - cost_table_totals[\"Costos_de_transaccion\"] # Monto Neto Financiado. \n",
        "    #Se realiza la suma de Capital Total + Gastos\n",
        "    amortization_table[\"Flujo_estimado\"] = amortization_table[\"Interes_Ordinario\"] + amortization_table[\"Principal\"]\n",
        "    amortization_table.loc[0,\"Flujo_estimado\"] = monto_neto_financiado * -1\n",
        "\n",
        "    flujos_estimados_recibir = np.sum( amortization_table[\"Flujo_estimado\"][1:]) #Suma de columna de Flujo Estimado\n",
        "    sum_intereses_efectivo = flujos_estimados_recibir - monto_neto_financiado # Calculo de interes efectivo\n",
        "\n",
        "    tie_mensual = round(npf.irr(amortization_table[\"Flujo_estimado\"]) , 9) # Se realiza calculo de Tasa de Interes Efectiva de acuerdo a Flujo Estimado\n",
        "    tie_anual = round(tie_mensual * BASE_DIAS_INTERES_ANUAL / DIAS_PROM_MES, 8) # TIE anual\n",
        "\n",
        "    new_amort_table = create_new_amortization_table( params[1], params[4], tie_mensual, cost_table_totals ) # Tabla desglose\n",
        "\n",
        "    table_f_append = table_f_append.append(final_table()) # Se adjunta tabla output al resto para generar una sola tabla"
      ],
      "execution_count": null,
      "outputs": [
        {
          "output_type": "stream",
          "name": "stderr",
          "text": [
            "/usr/local/lib/python3.7/dist-packages/ipykernel_launcher.py:58: RuntimeWarning: invalid value encountered in double_scalars\n",
            "/usr/local/lib/python3.7/dist-packages/ipykernel_launcher.py:59: RuntimeWarning: invalid value encountered in double_scalars\n",
            "/usr/local/lib/python3.7/dist-packages/ipykernel_launcher.py:60: RuntimeWarning: invalid value encountered in double_scalars\n",
            "/usr/local/lib/python3.7/dist-packages/ipykernel_launcher.py:61: RuntimeWarning: invalid value encountered in double_scalars\n",
            "/usr/local/lib/python3.7/dist-packages/ipykernel_launcher.py:62: RuntimeWarning: invalid value encountered in double_scalars\n",
            "/usr/local/lib/python3.7/dist-packages/ipykernel_launcher.py:63: RuntimeWarning: invalid value encountered in double_scalars\n",
            "/usr/local/lib/python3.7/dist-packages/ipykernel_launcher.py:64: RuntimeWarning: invalid value encountered in double_scalars\n",
            "/usr/local/lib/python3.7/dist-packages/ipykernel_launcher.py:65: RuntimeWarning: invalid value encountered in double_scalars\n",
            "/usr/local/lib/python3.7/dist-packages/ipykernel_launcher.py:66: RuntimeWarning: invalid value encountered in double_scalars\n",
            "/usr/local/lib/python3.7/dist-packages/ipykernel_launcher.py:67: RuntimeWarning: invalid value encountered in double_scalars\n",
            "/usr/local/lib/python3.7/dist-packages/ipykernel_launcher.py:68: RuntimeWarning: invalid value encountered in double_scalars\n",
            "/usr/local/lib/python3.7/dist-packages/ipykernel_launcher.py:58: RuntimeWarning: invalid value encountered in double_scalars\n",
            "/usr/local/lib/python3.7/dist-packages/ipykernel_launcher.py:59: RuntimeWarning: invalid value encountered in double_scalars\n",
            "/usr/local/lib/python3.7/dist-packages/ipykernel_launcher.py:60: RuntimeWarning: invalid value encountered in double_scalars\n",
            "/usr/local/lib/python3.7/dist-packages/ipykernel_launcher.py:61: RuntimeWarning: invalid value encountered in double_scalars\n",
            "/usr/local/lib/python3.7/dist-packages/ipykernel_launcher.py:62: RuntimeWarning: invalid value encountered in double_scalars\n",
            "/usr/local/lib/python3.7/dist-packages/ipykernel_launcher.py:63: RuntimeWarning: invalid value encountered in double_scalars\n",
            "/usr/local/lib/python3.7/dist-packages/ipykernel_launcher.py:64: RuntimeWarning: invalid value encountered in double_scalars\n",
            "/usr/local/lib/python3.7/dist-packages/ipykernel_launcher.py:65: RuntimeWarning: invalid value encountered in double_scalars\n",
            "/usr/local/lib/python3.7/dist-packages/ipykernel_launcher.py:66: RuntimeWarning: invalid value encountered in double_scalars\n",
            "/usr/local/lib/python3.7/dist-packages/ipykernel_launcher.py:67: RuntimeWarning: invalid value encountered in double_scalars\n",
            "/usr/local/lib/python3.7/dist-packages/ipykernel_launcher.py:68: RuntimeWarning: invalid value encountered in double_scalars\n",
            "/usr/local/lib/python3.7/dist-packages/ipykernel_launcher.py:58: RuntimeWarning: invalid value encountered in double_scalars\n",
            "/usr/local/lib/python3.7/dist-packages/ipykernel_launcher.py:59: RuntimeWarning: invalid value encountered in double_scalars\n",
            "/usr/local/lib/python3.7/dist-packages/ipykernel_launcher.py:60: RuntimeWarning: invalid value encountered in double_scalars\n",
            "/usr/local/lib/python3.7/dist-packages/ipykernel_launcher.py:61: RuntimeWarning: invalid value encountered in double_scalars\n",
            "/usr/local/lib/python3.7/dist-packages/ipykernel_launcher.py:62: RuntimeWarning: invalid value encountered in double_scalars\n",
            "/usr/local/lib/python3.7/dist-packages/ipykernel_launcher.py:63: RuntimeWarning: invalid value encountered in double_scalars\n",
            "/usr/local/lib/python3.7/dist-packages/ipykernel_launcher.py:64: RuntimeWarning: invalid value encountered in double_scalars\n",
            "/usr/local/lib/python3.7/dist-packages/ipykernel_launcher.py:65: RuntimeWarning: invalid value encountered in double_scalars\n",
            "/usr/local/lib/python3.7/dist-packages/ipykernel_launcher.py:66: RuntimeWarning: invalid value encountered in double_scalars\n",
            "/usr/local/lib/python3.7/dist-packages/ipykernel_launcher.py:67: RuntimeWarning: invalid value encountered in double_scalars\n",
            "/usr/local/lib/python3.7/dist-packages/ipykernel_launcher.py:68: RuntimeWarning: invalid value encountered in double_scalars\n",
            "/usr/local/lib/python3.7/dist-packages/ipykernel_launcher.py:58: RuntimeWarning: invalid value encountered in double_scalars\n",
            "/usr/local/lib/python3.7/dist-packages/ipykernel_launcher.py:59: RuntimeWarning: invalid value encountered in double_scalars\n",
            "/usr/local/lib/python3.7/dist-packages/ipykernel_launcher.py:60: RuntimeWarning: invalid value encountered in double_scalars\n",
            "/usr/local/lib/python3.7/dist-packages/ipykernel_launcher.py:61: RuntimeWarning: invalid value encountered in double_scalars\n",
            "/usr/local/lib/python3.7/dist-packages/ipykernel_launcher.py:62: RuntimeWarning: invalid value encountered in double_scalars\n",
            "/usr/local/lib/python3.7/dist-packages/ipykernel_launcher.py:63: RuntimeWarning: invalid value encountered in double_scalars\n",
            "/usr/local/lib/python3.7/dist-packages/ipykernel_launcher.py:64: RuntimeWarning: invalid value encountered in double_scalars\n",
            "/usr/local/lib/python3.7/dist-packages/ipykernel_launcher.py:65: RuntimeWarning: invalid value encountered in double_scalars\n",
            "/usr/local/lib/python3.7/dist-packages/ipykernel_launcher.py:66: RuntimeWarning: invalid value encountered in double_scalars\n",
            "/usr/local/lib/python3.7/dist-packages/ipykernel_launcher.py:67: RuntimeWarning: invalid value encountered in double_scalars\n",
            "/usr/local/lib/python3.7/dist-packages/ipykernel_launcher.py:68: RuntimeWarning: invalid value encountered in double_scalars\n",
            "/usr/local/lib/python3.7/dist-packages/ipykernel_launcher.py:58: RuntimeWarning: invalid value encountered in double_scalars\n",
            "/usr/local/lib/python3.7/dist-packages/ipykernel_launcher.py:59: RuntimeWarning: invalid value encountered in double_scalars\n",
            "/usr/local/lib/python3.7/dist-packages/ipykernel_launcher.py:60: RuntimeWarning: invalid value encountered in double_scalars\n",
            "/usr/local/lib/python3.7/dist-packages/ipykernel_launcher.py:61: RuntimeWarning: invalid value encountered in double_scalars\n",
            "/usr/local/lib/python3.7/dist-packages/ipykernel_launcher.py:62: RuntimeWarning: invalid value encountered in double_scalars\n",
            "/usr/local/lib/python3.7/dist-packages/ipykernel_launcher.py:63: RuntimeWarning: invalid value encountered in double_scalars\n",
            "/usr/local/lib/python3.7/dist-packages/ipykernel_launcher.py:64: RuntimeWarning: invalid value encountered in double_scalars\n",
            "/usr/local/lib/python3.7/dist-packages/ipykernel_launcher.py:65: RuntimeWarning: invalid value encountered in double_scalars\n",
            "/usr/local/lib/python3.7/dist-packages/ipykernel_launcher.py:66: RuntimeWarning: invalid value encountered in double_scalars\n",
            "/usr/local/lib/python3.7/dist-packages/ipykernel_launcher.py:67: RuntimeWarning: invalid value encountered in double_scalars\n",
            "/usr/local/lib/python3.7/dist-packages/ipykernel_launcher.py:68: RuntimeWarning: invalid value encountered in double_scalars\n",
            "/usr/local/lib/python3.7/dist-packages/ipykernel_launcher.py:58: RuntimeWarning: invalid value encountered in double_scalars\n",
            "/usr/local/lib/python3.7/dist-packages/ipykernel_launcher.py:59: RuntimeWarning: invalid value encountered in double_scalars\n",
            "/usr/local/lib/python3.7/dist-packages/ipykernel_launcher.py:60: RuntimeWarning: invalid value encountered in double_scalars\n",
            "/usr/local/lib/python3.7/dist-packages/ipykernel_launcher.py:61: RuntimeWarning: invalid value encountered in double_scalars\n",
            "/usr/local/lib/python3.7/dist-packages/ipykernel_launcher.py:62: RuntimeWarning: invalid value encountered in double_scalars\n",
            "/usr/local/lib/python3.7/dist-packages/ipykernel_launcher.py:63: RuntimeWarning: invalid value encountered in double_scalars\n",
            "/usr/local/lib/python3.7/dist-packages/ipykernel_launcher.py:64: RuntimeWarning: invalid value encountered in double_scalars\n",
            "/usr/local/lib/python3.7/dist-packages/ipykernel_launcher.py:65: RuntimeWarning: invalid value encountered in double_scalars\n",
            "/usr/local/lib/python3.7/dist-packages/ipykernel_launcher.py:66: RuntimeWarning: invalid value encountered in double_scalars\n",
            "/usr/local/lib/python3.7/dist-packages/ipykernel_launcher.py:67: RuntimeWarning: invalid value encountered in double_scalars\n",
            "/usr/local/lib/python3.7/dist-packages/ipykernel_launcher.py:68: RuntimeWarning: invalid value encountered in double_scalars\n",
            "/usr/local/lib/python3.7/dist-packages/ipykernel_launcher.py:58: RuntimeWarning: invalid value encountered in double_scalars\n",
            "/usr/local/lib/python3.7/dist-packages/ipykernel_launcher.py:59: RuntimeWarning: invalid value encountered in double_scalars\n",
            "/usr/local/lib/python3.7/dist-packages/ipykernel_launcher.py:60: RuntimeWarning: invalid value encountered in double_scalars\n",
            "/usr/local/lib/python3.7/dist-packages/ipykernel_launcher.py:61: RuntimeWarning: invalid value encountered in double_scalars\n",
            "/usr/local/lib/python3.7/dist-packages/ipykernel_launcher.py:62: RuntimeWarning: invalid value encountered in double_scalars\n",
            "/usr/local/lib/python3.7/dist-packages/ipykernel_launcher.py:63: RuntimeWarning: invalid value encountered in double_scalars\n",
            "/usr/local/lib/python3.7/dist-packages/ipykernel_launcher.py:64: RuntimeWarning: invalid value encountered in double_scalars\n",
            "/usr/local/lib/python3.7/dist-packages/ipykernel_launcher.py:65: RuntimeWarning: invalid value encountered in double_scalars\n",
            "/usr/local/lib/python3.7/dist-packages/ipykernel_launcher.py:66: RuntimeWarning: invalid value encountered in double_scalars\n",
            "/usr/local/lib/python3.7/dist-packages/ipykernel_launcher.py:67: RuntimeWarning: invalid value encountered in double_scalars\n",
            "/usr/local/lib/python3.7/dist-packages/ipykernel_launcher.py:68: RuntimeWarning: invalid value encountered in double_scalars\n",
            "/usr/local/lib/python3.7/dist-packages/ipykernel_launcher.py:58: RuntimeWarning: invalid value encountered in double_scalars\n",
            "/usr/local/lib/python3.7/dist-packages/ipykernel_launcher.py:59: RuntimeWarning: invalid value encountered in double_scalars\n",
            "/usr/local/lib/python3.7/dist-packages/ipykernel_launcher.py:60: RuntimeWarning: invalid value encountered in double_scalars\n",
            "/usr/local/lib/python3.7/dist-packages/ipykernel_launcher.py:61: RuntimeWarning: invalid value encountered in double_scalars\n",
            "/usr/local/lib/python3.7/dist-packages/ipykernel_launcher.py:62: RuntimeWarning: invalid value encountered in double_scalars\n",
            "/usr/local/lib/python3.7/dist-packages/ipykernel_launcher.py:63: RuntimeWarning: invalid value encountered in double_scalars\n",
            "/usr/local/lib/python3.7/dist-packages/ipykernel_launcher.py:64: RuntimeWarning: invalid value encountered in double_scalars\n",
            "/usr/local/lib/python3.7/dist-packages/ipykernel_launcher.py:65: RuntimeWarning: invalid value encountered in double_scalars\n",
            "/usr/local/lib/python3.7/dist-packages/ipykernel_launcher.py:66: RuntimeWarning: invalid value encountered in double_scalars\n",
            "/usr/local/lib/python3.7/dist-packages/ipykernel_launcher.py:67: RuntimeWarning: invalid value encountered in double_scalars\n",
            "/usr/local/lib/python3.7/dist-packages/ipykernel_launcher.py:68: RuntimeWarning: invalid value encountered in double_scalars\n",
            "/usr/local/lib/python3.7/dist-packages/ipykernel_launcher.py:58: RuntimeWarning: invalid value encountered in double_scalars\n",
            "/usr/local/lib/python3.7/dist-packages/ipykernel_launcher.py:59: RuntimeWarning: invalid value encountered in double_scalars\n",
            "/usr/local/lib/python3.7/dist-packages/ipykernel_launcher.py:60: RuntimeWarning: invalid value encountered in double_scalars\n",
            "/usr/local/lib/python3.7/dist-packages/ipykernel_launcher.py:61: RuntimeWarning: invalid value encountered in double_scalars\n",
            "/usr/local/lib/python3.7/dist-packages/ipykernel_launcher.py:62: RuntimeWarning: invalid value encountered in double_scalars\n",
            "/usr/local/lib/python3.7/dist-packages/ipykernel_launcher.py:63: RuntimeWarning: invalid value encountered in double_scalars\n",
            "/usr/local/lib/python3.7/dist-packages/ipykernel_launcher.py:64: RuntimeWarning: invalid value encountered in double_scalars\n",
            "/usr/local/lib/python3.7/dist-packages/ipykernel_launcher.py:65: RuntimeWarning: invalid value encountered in double_scalars\n",
            "/usr/local/lib/python3.7/dist-packages/ipykernel_launcher.py:66: RuntimeWarning: invalid value encountered in double_scalars\n",
            "/usr/local/lib/python3.7/dist-packages/ipykernel_launcher.py:67: RuntimeWarning: invalid value encountered in double_scalars\n",
            "/usr/local/lib/python3.7/dist-packages/ipykernel_launcher.py:68: RuntimeWarning: invalid value encountered in double_scalars\n",
            "/usr/local/lib/python3.7/dist-packages/ipykernel_launcher.py:58: RuntimeWarning: invalid value encountered in double_scalars\n",
            "/usr/local/lib/python3.7/dist-packages/ipykernel_launcher.py:59: RuntimeWarning: invalid value encountered in double_scalars\n",
            "/usr/local/lib/python3.7/dist-packages/ipykernel_launcher.py:60: RuntimeWarning: invalid value encountered in double_scalars\n",
            "/usr/local/lib/python3.7/dist-packages/ipykernel_launcher.py:61: RuntimeWarning: invalid value encountered in double_scalars\n",
            "/usr/local/lib/python3.7/dist-packages/ipykernel_launcher.py:62: RuntimeWarning: invalid value encountered in double_scalars\n",
            "/usr/local/lib/python3.7/dist-packages/ipykernel_launcher.py:63: RuntimeWarning: invalid value encountered in double_scalars\n",
            "/usr/local/lib/python3.7/dist-packages/ipykernel_launcher.py:64: RuntimeWarning: invalid value encountered in double_scalars\n",
            "/usr/local/lib/python3.7/dist-packages/ipykernel_launcher.py:65: RuntimeWarning: invalid value encountered in double_scalars\n",
            "/usr/local/lib/python3.7/dist-packages/ipykernel_launcher.py:66: RuntimeWarning: invalid value encountered in double_scalars\n",
            "/usr/local/lib/python3.7/dist-packages/ipykernel_launcher.py:67: RuntimeWarning: invalid value encountered in double_scalars\n",
            "/usr/local/lib/python3.7/dist-packages/ipykernel_launcher.py:68: RuntimeWarning: invalid value encountered in double_scalars\n",
            "/usr/local/lib/python3.7/dist-packages/ipykernel_launcher.py:58: RuntimeWarning: invalid value encountered in double_scalars\n",
            "/usr/local/lib/python3.7/dist-packages/ipykernel_launcher.py:59: RuntimeWarning: invalid value encountered in double_scalars\n",
            "/usr/local/lib/python3.7/dist-packages/ipykernel_launcher.py:60: RuntimeWarning: invalid value encountered in double_scalars\n",
            "/usr/local/lib/python3.7/dist-packages/ipykernel_launcher.py:61: RuntimeWarning: invalid value encountered in double_scalars\n",
            "/usr/local/lib/python3.7/dist-packages/ipykernel_launcher.py:62: RuntimeWarning: invalid value encountered in double_scalars\n",
            "/usr/local/lib/python3.7/dist-packages/ipykernel_launcher.py:63: RuntimeWarning: invalid value encountered in double_scalars\n",
            "/usr/local/lib/python3.7/dist-packages/ipykernel_launcher.py:64: RuntimeWarning: invalid value encountered in double_scalars\n",
            "/usr/local/lib/python3.7/dist-packages/ipykernel_launcher.py:65: RuntimeWarning: invalid value encountered in double_scalars\n",
            "/usr/local/lib/python3.7/dist-packages/ipykernel_launcher.py:66: RuntimeWarning: invalid value encountered in double_scalars\n",
            "/usr/local/lib/python3.7/dist-packages/ipykernel_launcher.py:67: RuntimeWarning: invalid value encountered in double_scalars\n",
            "/usr/local/lib/python3.7/dist-packages/ipykernel_launcher.py:68: RuntimeWarning: invalid value encountered in double_scalars\n",
            "/usr/local/lib/python3.7/dist-packages/ipykernel_launcher.py:58: RuntimeWarning: invalid value encountered in double_scalars\n",
            "/usr/local/lib/python3.7/dist-packages/ipykernel_launcher.py:59: RuntimeWarning: invalid value encountered in double_scalars\n",
            "/usr/local/lib/python3.7/dist-packages/ipykernel_launcher.py:60: RuntimeWarning: invalid value encountered in double_scalars\n",
            "/usr/local/lib/python3.7/dist-packages/ipykernel_launcher.py:61: RuntimeWarning: invalid value encountered in double_scalars\n",
            "/usr/local/lib/python3.7/dist-packages/ipykernel_launcher.py:62: RuntimeWarning: invalid value encountered in double_scalars\n",
            "/usr/local/lib/python3.7/dist-packages/ipykernel_launcher.py:63: RuntimeWarning: invalid value encountered in double_scalars\n",
            "/usr/local/lib/python3.7/dist-packages/ipykernel_launcher.py:64: RuntimeWarning: invalid value encountered in double_scalars\n",
            "/usr/local/lib/python3.7/dist-packages/ipykernel_launcher.py:65: RuntimeWarning: invalid value encountered in double_scalars\n",
            "/usr/local/lib/python3.7/dist-packages/ipykernel_launcher.py:66: RuntimeWarning: invalid value encountered in double_scalars\n",
            "/usr/local/lib/python3.7/dist-packages/ipykernel_launcher.py:67: RuntimeWarning: invalid value encountered in double_scalars\n",
            "/usr/local/lib/python3.7/dist-packages/ipykernel_launcher.py:68: RuntimeWarning: invalid value encountered in double_scalars\n",
            "/usr/local/lib/python3.7/dist-packages/ipykernel_launcher.py:58: RuntimeWarning: invalid value encountered in double_scalars\n",
            "/usr/local/lib/python3.7/dist-packages/ipykernel_launcher.py:59: RuntimeWarning: invalid value encountered in double_scalars\n",
            "/usr/local/lib/python3.7/dist-packages/ipykernel_launcher.py:60: RuntimeWarning: invalid value encountered in double_scalars\n",
            "/usr/local/lib/python3.7/dist-packages/ipykernel_launcher.py:61: RuntimeWarning: invalid value encountered in double_scalars\n",
            "/usr/local/lib/python3.7/dist-packages/ipykernel_launcher.py:62: RuntimeWarning: invalid value encountered in double_scalars\n",
            "/usr/local/lib/python3.7/dist-packages/ipykernel_launcher.py:63: RuntimeWarning: invalid value encountered in double_scalars\n",
            "/usr/local/lib/python3.7/dist-packages/ipykernel_launcher.py:64: RuntimeWarning: invalid value encountered in double_scalars\n",
            "/usr/local/lib/python3.7/dist-packages/ipykernel_launcher.py:65: RuntimeWarning: invalid value encountered in double_scalars\n",
            "/usr/local/lib/python3.7/dist-packages/ipykernel_launcher.py:66: RuntimeWarning: invalid value encountered in double_scalars\n",
            "/usr/local/lib/python3.7/dist-packages/ipykernel_launcher.py:67: RuntimeWarning: invalid value encountered in double_scalars\n",
            "/usr/local/lib/python3.7/dist-packages/ipykernel_launcher.py:68: RuntimeWarning: invalid value encountered in double_scalars\n",
            "/usr/local/lib/python3.7/dist-packages/ipykernel_launcher.py:58: RuntimeWarning: invalid value encountered in double_scalars\n",
            "/usr/local/lib/python3.7/dist-packages/ipykernel_launcher.py:59: RuntimeWarning: invalid value encountered in double_scalars\n",
            "/usr/local/lib/python3.7/dist-packages/ipykernel_launcher.py:60: RuntimeWarning: invalid value encountered in double_scalars\n",
            "/usr/local/lib/python3.7/dist-packages/ipykernel_launcher.py:61: RuntimeWarning: invalid value encountered in double_scalars\n",
            "/usr/local/lib/python3.7/dist-packages/ipykernel_launcher.py:62: RuntimeWarning: invalid value encountered in double_scalars\n",
            "/usr/local/lib/python3.7/dist-packages/ipykernel_launcher.py:63: RuntimeWarning: invalid value encountered in double_scalars\n",
            "/usr/local/lib/python3.7/dist-packages/ipykernel_launcher.py:64: RuntimeWarning: invalid value encountered in double_scalars\n",
            "/usr/local/lib/python3.7/dist-packages/ipykernel_launcher.py:65: RuntimeWarning: invalid value encountered in double_scalars\n",
            "/usr/local/lib/python3.7/dist-packages/ipykernel_launcher.py:66: RuntimeWarning: invalid value encountered in double_scalars\n",
            "/usr/local/lib/python3.7/dist-packages/ipykernel_launcher.py:67: RuntimeWarning: invalid value encountered in double_scalars\n",
            "/usr/local/lib/python3.7/dist-packages/ipykernel_launcher.py:68: RuntimeWarning: invalid value encountered in double_scalars\n",
            "/usr/local/lib/python3.7/dist-packages/ipykernel_launcher.py:58: RuntimeWarning: invalid value encountered in double_scalars\n",
            "/usr/local/lib/python3.7/dist-packages/ipykernel_launcher.py:59: RuntimeWarning: invalid value encountered in double_scalars\n",
            "/usr/local/lib/python3.7/dist-packages/ipykernel_launcher.py:60: RuntimeWarning: invalid value encountered in double_scalars\n",
            "/usr/local/lib/python3.7/dist-packages/ipykernel_launcher.py:61: RuntimeWarning: invalid value encountered in double_scalars\n",
            "/usr/local/lib/python3.7/dist-packages/ipykernel_launcher.py:62: RuntimeWarning: invalid value encountered in double_scalars\n",
            "/usr/local/lib/python3.7/dist-packages/ipykernel_launcher.py:63: RuntimeWarning: invalid value encountered in double_scalars\n",
            "/usr/local/lib/python3.7/dist-packages/ipykernel_launcher.py:64: RuntimeWarning: invalid value encountered in double_scalars\n",
            "/usr/local/lib/python3.7/dist-packages/ipykernel_launcher.py:65: RuntimeWarning: invalid value encountered in double_scalars\n",
            "/usr/local/lib/python3.7/dist-packages/ipykernel_launcher.py:66: RuntimeWarning: invalid value encountered in double_scalars\n",
            "/usr/local/lib/python3.7/dist-packages/ipykernel_launcher.py:67: RuntimeWarning: invalid value encountered in double_scalars\n",
            "/usr/local/lib/python3.7/dist-packages/ipykernel_launcher.py:68: RuntimeWarning: invalid value encountered in double_scalars\n"
          ]
        }
      ]
    },
    {
      "cell_type": "code",
      "metadata": {
        "colab": {
          "base_uri": "https://localhost:8080/"
        },
        "id": "566tsU-H8cvY",
        "outputId": "6787491a-15e3-472e-9f8b-596c0f03c138"
      },
      "source": [
        "table_f_append.info()"
      ],
      "execution_count": null,
      "outputs": [
        {
          "output_type": "stream",
          "name": "stdout",
          "text": [
            "<class 'pandas.core.frame.DataFrame'>\n",
            "Int64Index: 7164 entries, 0 to 5\n",
            "Data columns (total 52 columns):\n",
            " #   Column                 Non-Null Count  Dtype  \n",
            "---  ------                 --------------  -----  \n",
            " 0   FECHA                  7164 non-null   object \n",
            " 1   ID                     7164 non-null   object \n",
            " 2   PRODUCTO               7164 non-null   object \n",
            " 3   CLIENTE                7164 non-null   object \n",
            " 4   TIPO_CREDITO           7164 non-null   object \n",
            " 5   PAGO_CAPITAL           7164 non-null   object \n",
            " 6   PAGO_INTERESES         7164 non-null   object \n",
            " 7   MONTO                  7164 non-null   object \n",
            " 8   TASA_REFERENCIA        7164 non-null   object \n",
            " 9   TASA_FIJA              966 non-null    object \n",
            " 10  TASA_MARGEN            7164 non-null   object \n",
            " 11  PLAZO                  7164 non-null   object \n",
            " 12  TASA                   7164 non-null   object \n",
            " 13  MONTO_NET_FINANCIADO   7164 non-null   object \n",
            " 14  TASA_INTERES_EFECTIVA  7164 non-null   object \n",
            " 15  T=0                    7164 non-null   object \n",
            " 16  index                  7164 non-null   object \n",
            " 17  01/01/2020             7164 non-null   float64\n",
            " 18  01/02/2020             7164 non-null   float64\n",
            " 19  01/03/2020             7164 non-null   float64\n",
            " 20  01/04/2020             7164 non-null   float64\n",
            " 21  01/05/2020             7164 non-null   float64\n",
            " 22  01/06/2020             7164 non-null   float64\n",
            " 23  01/07/2020             7164 non-null   float64\n",
            " 24  01/08/2020             7164 non-null   float64\n",
            " 25  01/09/2020             7164 non-null   float64\n",
            " 26  01/10/2020             7164 non-null   float64\n",
            " 27  01/11/2020             7164 non-null   float64\n",
            " 28  01/12/2020             7164 non-null   float64\n",
            " 29  01/01/2021             7164 non-null   float64\n",
            " 30  01/02/2021             7164 non-null   float64\n",
            " 31  01/03/2021             7164 non-null   float64\n",
            " 32  01/04/2021             7164 non-null   float64\n",
            " 33  01/05/2021             7164 non-null   float64\n",
            " 34  01/06/2021             7164 non-null   float64\n",
            " 35  01/07/2021             7164 non-null   float64\n",
            " 36  01/08/2021             7164 non-null   float64\n",
            " 37  01/09/2021             7164 non-null   float64\n",
            " 38  01/10/2021             7164 non-null   float64\n",
            " 39  01/11/2021             7164 non-null   float64\n",
            " 40  01/12/2021             7164 non-null   float64\n",
            " 41  01/01/2022             7164 non-null   float64\n",
            " 42  01/02/2022             7164 non-null   float64\n",
            " 43  01/03/2022             7164 non-null   float64\n",
            " 44  01/04/2022             7164 non-null   float64\n",
            " 45  01/05/2022             7164 non-null   float64\n",
            " 46  01/06/2022             7164 non-null   float64\n",
            " 47  01/07/2022             7164 non-null   float64\n",
            " 48  01/08/2022             7164 non-null   float64\n",
            " 49  01/09/2022             7164 non-null   float64\n",
            " 50  01/10/2022             7164 non-null   float64\n",
            " 51  01/11/2022             7164 non-null   float64\n",
            "dtypes: float64(35), object(17)\n",
            "memory usage: 2.9+ MB\n"
          ]
        }
      ]
    },
    {
      "cell_type": "code",
      "metadata": {
        "id": "lMEHuI8QYnHi"
      },
      "source": [
        ""
      ],
      "execution_count": null,
      "outputs": []
    },
    {
      "cell_type": "code",
      "metadata": {
        "id": "LhBQHmQ-upq1"
      },
      "source": [
        ""
      ],
      "execution_count": null,
      "outputs": []
    }
  ]
}
